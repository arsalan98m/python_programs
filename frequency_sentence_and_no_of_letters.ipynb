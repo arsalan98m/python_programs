{
 "cells": [
  {
   "cell_type": "markdown",
   "metadata": {},
   "source": [
    "- Write a program that takes a line as input and finds the number of letters and digits in the input"
   ]
  },
  {
   "cell_type": "code",
   "execution_count": 13,
   "metadata": {},
   "outputs": [
    {
     "name": "stdout",
     "output_type": "stream",
     "text": [
      "Enter your letters: arsalan90\n",
      "\n",
      "Number of letters:  7\n",
      "Number of digits:  2\n"
     ]
    }
   ],
   "source": [
    "number_of_letters = input(\"Enter your letters: \")\n",
    "digits = 0\n",
    "letters = 0\n",
    "\n",
    "for element in number_of_letters:\n",
    "    if element.isdigit():\n",
    "        digits +=1\n",
    "    elif element.isalpha():\n",
    "        letters+=1\n",
    "\n",
    "print(\"\\nNumber of letters: \",letters)\n",
    "print(\"Number of digits: \",digits)"
   ]
  },
  {
   "cell_type": "markdown",
   "metadata": {},
   "source": [
    "- Write a program that takes a sentence as input. Compute the frequency of each words and prints them."
   ]
  },
  {
   "cell_type": "code",
   "execution_count": 32,
   "metadata": {},
   "outputs": [
    {
     "name": "stdout",
     "output_type": "stream",
     "text": [
      "Enter sentence: what are you doing and you are\n",
      "String:\n",
      " what are you doing and you are\n",
      "\n",
      "List:\n",
      "  ['what', 'are', 'you', 'doing', 'and', 'you', 'are'] \n",
      "\n",
      "Frequencies:\n",
      "  [1, 2, 2, 1, 1, 2, 2] \n",
      "\n",
      "Pairs:\n",
      " (('what', 1), ('are', 2), ('you', 2), ('doing', 1), ('and', 1), ('you', 2), ('are', 2))\n"
     ]
    }
   ],
   "source": [
    "sentence = input(\"Enter sentence: \") \n",
    "\n",
    "sentence_list = sentence.split()\n",
    "\n",
    "sentence_frequency = []\n",
    "\n",
    "for element in sentence_list:\n",
    "    sentence_frequency.append(sentence_list.count(element))\n",
    "\n",
    "print(\"String:\\n \"+sentence+\"\\n\")\n",
    "print(\"List:\\n \", sentence_list,\"\\n\")\n",
    "print(\"Frequencies:\\n \",sentence_frequency,\"\\n\")\n",
    "print(\"Pairs:\\n\", tuple(zip(sentence_list,sentence_frequency)))"
   ]
  },
  {
   "cell_type": "code",
   "execution_count": null,
   "metadata": {},
   "outputs": [],
   "source": []
  }
 ],
 "metadata": {
  "kernelspec": {
   "display_name": "Python 3",
   "language": "python",
   "name": "python3"
  },
  "language_info": {
   "codemirror_mode": {
    "name": "ipython",
    "version": 3
   },
   "file_extension": ".py",
   "mimetype": "text/x-python",
   "name": "python",
   "nbconvert_exporter": "python",
   "pygments_lexer": "ipython3",
   "version": "3.7.3"
  }
 },
 "nbformat": 4,
 "nbformat_minor": 2
}
