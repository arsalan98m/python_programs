{
 "cells": [
  {
   "cell_type": "code",
   "execution_count": 1,
   "metadata": {},
   "outputs": [
    {
     "name": "stdout",
     "output_type": "stream",
     "text": [
      "arr =  [2, 5, 3, 6, 7, 0, 1, 4]\n",
      "arr1 =  [2, 6, 0, 4, 5, 3, 7, 1]\n"
     ]
    }
   ],
   "source": [
    "# Write a program to sepeate even and odd numbers\n",
    "arr = [2,5,3,6,7,0,1,4]\n",
    "arr1 = [] \n",
    "arr2 = []\n",
    "\n",
    "for item in arr:\n",
    "    if item % 2 == 0:\n",
    "        arr1.append(item)\n",
    "    else:\n",
    "        arr2.append(item)\n",
    "arr1 = arr1+arr2\n",
    "print(\"arr = \",arr)\n",
    "print(\"arr1 = \",arr1)\n"
   ]
  },
  {
   "cell_type": "code",
   "execution_count": 5,
   "metadata": {},
   "outputs": [
    {
     "name": "stdout",
     "output_type": "stream",
     "text": [
      "Given List:  [2, 5, 7, 0, 4, 0, 7, -5, 8, 0]\n",
      "Updated List:  [2, 5, 7, 4, 7, -5, 8, 0, 0, 0]\n"
     ]
    }
   ],
   "source": [
    "# write program to move to all zeors to the end of the list\n",
    "\n",
    "arr = [2,5,7,0,4,0,7,-5,8,0]\n",
    "\n",
    "arr1 = []\n",
    "arr2 = []\n",
    "for item in arr:\n",
    "    if item == 0:\n",
    "        arr1.append(item)\n",
    "    else:\n",
    "        arr2.append(item)\n",
    "new_arr = arr2 + arr1\n",
    "print(\"Given List: \",arr)\n",
    "print(\"Updated List: \",new_arr)\n",
    "    "
   ]
  },
  {
   "cell_type": "code",
   "execution_count": null,
   "metadata": {},
   "outputs": [],
   "source": []
  }
 ],
 "metadata": {
  "kernelspec": {
   "display_name": "Python 3",
   "language": "python",
   "name": "python3"
  },
  "language_info": {
   "codemirror_mode": {
    "name": "ipython",
    "version": 3
   },
   "file_extension": ".py",
   "mimetype": "text/x-python",
   "name": "python",
   "nbconvert_exporter": "python",
   "pygments_lexer": "ipython3",
   "version": "3.7.3"
  }
 },
 "nbformat": 4,
 "nbformat_minor": 2
}
