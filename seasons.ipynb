{
 "cells": [
  {
   "cell_type": "markdown",
   "metadata": {},
   "source": [
    "- Write a program that takes the month (1…12) as input. Print whether the season is summer, winter, spring or autumn depending upon the input month."
   ]
  },
  {
   "cell_type": "code",
   "execution_count": 10,
   "metadata": {},
   "outputs": [
    {
     "name": "stdout",
     "output_type": "stream",
     "text": [
      "Enter month from 1..12: 13\n"
     ]
    }
   ],
   "source": [
    "month = int(input(\"Enter month from 1..12: \"))\n",
    "\n",
    "if month == 12 or month == 1 or month == 2:\n",
    "    print(\"Season is winter\")\n",
    "elif month == 3 or month == 4 or month == 5:\n",
    "    print(\"Season is Spring\")\n",
    "elif month == 5 or month == 6 or month == 7:\n",
    "    print(\"Season is Summer\")\n",
    "elif month == 9 or month == 10 or month == 11:\n",
    "    print(\"Season is Autumn\")\n",
    "    \n"
   ]
  },
  {
   "cell_type": "code",
   "execution_count": null,
   "metadata": {},
   "outputs": [],
   "source": []
  }
 ],
 "metadata": {
  "kernelspec": {
   "display_name": "Python 3",
   "language": "python",
   "name": "python3"
  },
  "language_info": {
   "codemirror_mode": {
    "name": "ipython",
    "version": 3
   },
   "file_extension": ".py",
   "mimetype": "text/x-python",
   "name": "python",
   "nbconvert_exporter": "python",
   "pygments_lexer": "ipython3",
   "version": "3.7.3"
  }
 },
 "nbformat": 4,
 "nbformat_minor": 2
}
