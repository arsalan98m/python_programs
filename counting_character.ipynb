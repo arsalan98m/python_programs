{
 "cells": [
  {
   "cell_type": "code",
   "execution_count": 1,
   "metadata": {},
   "outputs": [],
   "source": [
    "#Ask username and count each character"
   ]
  },
  {
   "cell_type": "code",
   "execution_count": 6,
   "metadata": {},
   "outputs": [
    {
     "name": "stdout",
     "output_type": "stream",
     "text": [
      "Enter your name: arsalan\n",
      "a: 3\n",
      "r: 1\n",
      "s: 1\n",
      "l: 1\n",
      "n: 1\n"
     ]
    }
   ],
   "source": [
    "name = input(\"Enter your name: \")\n",
    "temp = \"\"\n",
    "\n",
    "for i in range(0, len(name)):\n",
    "    if name[i] not in temp:\n",
    "        print(f\"{name[i]}: {name.count(name[i])}\")\n",
    "        temp += name[i]"
   ]
  },
  {
   "cell_type": "code",
   "execution_count": 16,
   "metadata": {},
   "outputs": [
    {
     "name": "stdout",
     "output_type": "stream",
     "text": [
      "Which letter would you like to count?d\n",
      "3\n"
     ]
    }
   ],
   "source": [
    "def count_letter(word_list, letter):\n",
    "    count = 0\n",
    "    for word in word_list:\n",
    "        if letter in word:\n",
    "            count += 1\n",
    "    return count\n",
    "\n",
    "word_list = ['w','s','d','e','d','w','d','e']\n",
    "letter = input(\"Which letter would you like to count?\")\n",
    "letter_count = count_letter(word_list, letter)\n",
    "print(letter_count)"
   ]
  },
  {
   "cell_type": "code",
   "execution_count": null,
   "metadata": {},
   "outputs": [],
   "source": []
  }
 ],
 "metadata": {
  "kernelspec": {
   "display_name": "Python 3",
   "language": "python",
   "name": "python3"
  },
  "language_info": {
   "codemirror_mode": {
    "name": "ipython",
    "version": 3
   },
   "file_extension": ".py",
   "mimetype": "text/x-python",
   "name": "python",
   "nbconvert_exporter": "python",
   "pygments_lexer": "ipython3",
   "version": "3.7.3"
  }
 },
 "nbformat": 4,
 "nbformat_minor": 2
}
