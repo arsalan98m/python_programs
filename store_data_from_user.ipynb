{
 "cells": [
  {
   "cell_type": "code",
   "execution_count": null,
   "metadata": {},
   "outputs": [],
   "source": [
    "users = {}\n",
    "\n",
    "name = input(\"Enter your name: \")\n",
    "age = int(input(\"Enter your age: \"))\n",
    "fav_movies = input(\"your favorite movies seperated by comma\").split(\",\")\n",
    "fav_songs = input(\"your favorite songs seperated by comma\").split(\",\")\n",
    "\n",
    "users['name'] = name\n",
    "users['age'] = age\n",
    "users['fav_movies'] = fav_movies\n",
    "users['fav_songs'] = fav_songs\n",
    "\n",
    "for key, value in users.items():\n",
    "    print(f\"{key} : {value}\")\n"
   ]
  }
 ],
 "metadata": {
  "kernelspec": {
   "display_name": "Python 3",
   "language": "python",
   "name": "python3"
  },
  "language_info": {
   "codemirror_mode": {
    "name": "ipython",
    "version": 3
   },
   "file_extension": ".py",
   "mimetype": "text/x-python",
   "name": "python",
   "nbconvert_exporter": "python",
   "pygments_lexer": "ipython3",
   "version": "3.7.3"
  }
 },
 "nbformat": 4,
 "nbformat_minor": 2
}
