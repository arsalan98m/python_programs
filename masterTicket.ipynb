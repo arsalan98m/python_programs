{
 "cells": [
  {
   "cell_type": "code",
   "execution_count": 4,
   "metadata": {},
   "outputs": [
    {
     "name": "stdout",
     "output_type": "stream",
     "text": [
      "There are 100 tickets remaining.\n",
      "What is your name:   arsalan\n",
      "How many tickets you would like Arsalan: 99\n",
      "The total due is $992\n",
      "Do You want to Proceed? Press Y/NY\n",
      "SOLD!\n",
      "Sorry the tickets are all sold out!!!!😆😆\n"
     ]
    }
   ],
   "source": [
    "SERVICE_CHARGE = 2\n",
    "TICKET_PRICE = 10\n",
    "ticket_ramaining = 100\n",
    "\n",
    "# Run this code continuously untill we run out of tickets\n",
    "while ticket_ramaining > 1:\n",
    "    \n",
    "    # output how many tickets are remaining using the tickets remaining variable\n",
    "\n",
    "    print(f\"There are {ticket_ramaining} tickets remaining.\")\n",
    "\n",
    "    # Gather the user's name and assign it to a new variable\n",
    "\n",
    "    user_name = input(\"What is your name:   \")\n",
    "    \n",
    "    # prompt the user by name and ask how many tickets they would like\n",
    "    try:\n",
    "        user_tickets = int(input(f\"How many tickets you would like {user_name.title()}: \"))\n",
    "        \n",
    "        # if the req is more than tickets than are available\n",
    "        \n",
    "        if user_tickets > ticket_ramaining:\n",
    "            raise ValueError(f\"There are only {ticket_ramaining} tickets remaining.\")\n",
    "    except ValueError as err:\n",
    "        #Include the error text in the output\n",
    "        print(f\"Oh no, we ean into an issue.{err} Please try again.\")\n",
    "    # calculate the price (number of tickets multiplied by the price) and assign\n",
    "    # to a variable\n",
    "    else:\n",
    "        amount_due = (user_tickets * TICKET_PRICE) + SERVICE_CHARGE\n",
    "\n",
    "        # Output the price to the screen\n",
    "\n",
    "        print(f\"The total due is ${amount_due}\")\n",
    "\n",
    "        # prompt the user if they want to process .Y/N?\n",
    "        proceed = input(\"Do You want to Proceed? Press Y/N\")\n",
    "\n",
    "        # If they want to proceed\n",
    "\n",
    "        if proceed.lower() == \"y\":\n",
    "            # Print out the screen \"SOLD!\" to confirm purchase\n",
    "            print(\"SOLD!\")\n",
    "\n",
    "            # and the decrement the tickets remaining by the no_of_tickets purchased\n",
    "            ticket_ramaining = ticket_ramaining - user_tickets\n",
    "        else:\n",
    "            print(f\"Thank you always {user_name}! \")\n",
    "\n",
    "        # Notify user that the tickets are sold out\n",
    "\n",
    "print(\"Sorry the tickets are all sold out!!!!😆😆\")"
   ]
  },
  {
   "cell_type": "code",
   "execution_count": null,
   "metadata": {},
   "outputs": [],
   "source": []
  }
 ],
 "metadata": {
  "kernelspec": {
   "display_name": "Python 3",
   "language": "python",
   "name": "python3"
  },
  "language_info": {
   "codemirror_mode": {
    "name": "ipython",
    "version": 3
   },
   "file_extension": ".py",
   "mimetype": "text/x-python",
   "name": "python",
   "nbconvert_exporter": "python",
   "pygments_lexer": "ipython3",
   "version": "3.7.3"
  }
 },
 "nbformat": 4,
 "nbformat_minor": 2
}
