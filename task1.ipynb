{
 "cells": [
  {
   "cell_type": "markdown",
   "metadata": {},
   "source": [
    "Below are a set of scores that students have received in the past semester. Write code to determine how many are 90 or above and assign that result to the value `'a_scores'`"
   ]
  },
  {
   "cell_type": "code",
   "execution_count": 1,
   "metadata": {},
   "outputs": [
    {
     "name": "stdout",
     "output_type": "stream",
     "text": [
      "10\n"
     ]
    }
   ],
   "source": [
    "scores = \"67 80 90 78 93 20 79 89 96 97 92 88 79 68 58 90 98 100 79 74 83 88 80 86 85 70 90 100\"\n",
    "scores = scores.split(\" \")\n",
    "a_scores = 0\n",
    "\n",
    "for score in scores:\n",
    "    if int(score) >= 90:\n",
    "        a_scores += 1\n",
    "print(a_scores)"
   ]
  },
  {
   "cell_type": "markdown",
   "metadata": {},
   "source": [
    "Write a code that uses the string stores in `'org'` and create acronym which is assigned to the variable `'acro'`. Only the first letter of each word should be used, each letter in the acronym should be a capital letter, and there should be nothing to seperate the letters of the acronym. Words that should not be included in the acrounym are stored in the list `'stopwords'`. For example, if `org` was assigned the string \"hello to world\" then the result acronym should be \"HW\"."
   ]
  },
  {
   "cell_type": "code",
   "execution_count": 16,
   "metadata": {},
   "outputs": [
    {
     "name": "stdout",
     "output_type": "stream",
     "text": [
      " OHSE\n"
     ]
    }
   ],
   "source": [
    "stopwords = ['to', 'a', 'for', 'by', 'an', 'am', 'the', 'so', 'it', 'and', 'The']\n",
    "org = \"The organization for health, safety, and education\"\n",
    "org = org.split(\" \")\n",
    "acro = \" \"\n",
    "\n",
    "for elem in org:\n",
    "    if elem not in stopwords:\n",
    "        acro +=elem[0].upper()\n",
    "        \n",
    "print(acro)\n",
    "        "
   ]
  },
  {
   "cell_type": "markdown",
   "metadata": {},
   "source": [
    "Write code that uses the string stored in `sent` and creates an acronym which is assigned to the variable `acro`.\n",
    "The first two letters of each word should be used, each letter in the acronym should be a capital letter, and each element of the acronym should be separated by a `“. ” `(dot and space).\n",
    "Words that should not be included in the acronym are stored in the list `stopwords`.\n",
    "For example, if sent was assigned the string “height and ewok wonder” then the resulting acronym should be `“HE. EW. WO”.`"
   ]
  },
  {
   "cell_type": "code",
   "execution_count": 31,
   "metadata": {},
   "outputs": [
    {
     "name": "stdout",
     "output_type": "stream",
     "text": [
      "WA. EA. AI. AR. VI\n"
     ]
    }
   ],
   "source": [
    "stopwords = ['to', 'a', 'for', 'by', 'an', 'am', 'the', 'so', 'it', 'and', 'The']\n",
    "sent = \"The water earth and air are vital\"\n",
    "sent = sent.split()\n",
    "acro = \"\"\n",
    "for word in sent:\n",
    "    if word not in stopwords:\n",
    "        acro += word[:2].upper()+\". \"\n",
    "acro = acro[:-2]\n",
    "print(acro)"
   ]
  },
  {
   "cell_type": "markdown",
   "metadata": {},
   "source": [
    "A palindrome is a phrase that, if reversed, would read the exact same.\n",
    "Write code that checks if p_phrase is a palindrome by reversing it and then checking if the reversed version is equal to the original.\n",
    "Assign the reversed version of p_phrase to the variable r_phrase so that we can check your work."
   ]
  },
  {
   "cell_type": "code",
   "execution_count": 33,
   "metadata": {},
   "outputs": [
    {
     "name": "stdout",
     "output_type": "stream",
     "text": [
      "was I tac a ro rac a ti saw\n"
     ]
    }
   ],
   "source": [
    "phrase = \"was it a car or a cat I saw\"\n",
    "r_phrase = phrase[::-1]\n",
    "print(r_phrase)"
   ]
  },
  {
   "cell_type": "markdown",
   "metadata": {},
   "source": [
    "Provided is a list of data about a store’s inventory where each item in the list represents the name of an item, how much is in stock, and how much it costs.\n",
    "Print out each item in the list with the same formatting, using the .format method (not string concatenation).\n",
    "For example, the first print statment should read The store has 12 shoes, each for 29.99 USD."
   ]
  },
  {
   "cell_type": "code",
   "execution_count": 34,
   "metadata": {},
   "outputs": [
    {
     "name": "stdout",
     "output_type": "stream",
     "text": [
      "The store has 12 shoes, each for 29.99 USD.\n",
      "The store has 20 shirts, each for 9.99 USD.\n",
      "The store has 25 sweatpants, each for 15.00 USD.\n",
      "The store has 13 scarves, each for 7.75 USD.\n"
     ]
    }
   ],
   "source": [
    "inventory = [\"shoes, 12, 29.99\", \"shirts, 20, 9.99\", \"sweatpants, 25, 15.00\", \"scarves, 13, 7.75\"]\n",
    "\n",
    "for item in inventory:\n",
    "    item_desc, number, cost = item.split(\", \")\n",
    "    print(\"The store has {} {}, each for {} USD.\".format(number, item_desc, cost))"
   ]
  },
  {
   "cell_type": "code",
   "execution_count": null,
   "metadata": {},
   "outputs": [],
   "source": []
  }
 ],
 "metadata": {
  "kernelspec": {
   "display_name": "Python 3",
   "language": "python",
   "name": "python3"
  },
  "language_info": {
   "codemirror_mode": {
    "name": "ipython",
    "version": 3
   },
   "file_extension": ".py",
   "mimetype": "text/x-python",
   "name": "python",
   "nbconvert_exporter": "python",
   "pygments_lexer": "ipython3",
   "version": "3.7.3"
  }
 },
 "nbformat": 4,
 "nbformat_minor": 2
}
