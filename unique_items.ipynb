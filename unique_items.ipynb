{
 "cells": [
  {
   "cell_type": "code",
   "execution_count": 2,
   "metadata": {},
   "outputs": [
    {
     "name": "stdout",
     "output_type": "stream",
     "text": [
      "['ruby', 'java', 'c#', 'c', 'python']\n"
     ]
    }
   ],
   "source": [
    "# When you wrap set() around a list,dictionary containes duplicate\n",
    "# items, python identifies the unique items in the list and builds\n",
    "# a set from those items\n",
    "\n",
    "items = [\"python\",\"c\", \"python\",\"java\",\"c\", \"ruby\",\"c#\"]\n",
    "unique_items = []\n",
    "\n",
    "for item in set(items):\n",
    "    unique_items.append(item)\n",
    "print(unique_items)"
   ]
  },
  {
   "cell_type": "code",
   "execution_count": null,
   "metadata": {},
   "outputs": [],
   "source": []
  }
 ],
 "metadata": {
  "kernelspec": {
   "display_name": "Python 3",
   "language": "python",
   "name": "python3"
  },
  "language_info": {
   "codemirror_mode": {
    "name": "ipython",
    "version": 3
   },
   "file_extension": ".py",
   "mimetype": "text/x-python",
   "name": "python",
   "nbconvert_exporter": "python",
   "pygments_lexer": "ipython3",
   "version": "3.7.3"
  }
 },
 "nbformat": 4,
 "nbformat_minor": 2
}
