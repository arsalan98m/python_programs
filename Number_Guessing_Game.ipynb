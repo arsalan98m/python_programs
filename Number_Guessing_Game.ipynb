{
 "cells": [
  {
   "cell_type": "code",
   "execution_count": 10,
   "metadata": {},
   "outputs": [],
   "source": [
    "import random\n",
    "secret_number = random.randint(1,101)"
   ]
  },
  {
   "cell_type": "code",
   "execution_count": 6,
   "metadata": {},
   "outputs": [
    {
     "name": "stdout",
     "output_type": "stream",
     "text": [
      "Guess a number between 1 and 100: 1\n",
      "too low\n",
      "Guess again: 10\n",
      "too high\n",
      "Guess again: 2\n",
      "too low\n",
      "Guess again: 3\n",
      "too low\n",
      "Guess again: 4\n",
      "too low\n",
      "Guess again: 5\n",
      "too low\n",
      "Guess again: 6\n",
      "too low\n",
      "Guess again: 7\n",
      "too low\n",
      "Guess again: 8\n",
      "too low\n",
      "Guess again: 9\n",
      "you win, and you guessed this number in 10 time\n"
     ]
    }
   ],
   "source": [
    "winning_number = secret_number\n",
    "guess = 1\n",
    "\n",
    "number = int(input(\"Guess a number between 1 and 100: \"))\n",
    "\n",
    "game_over = False\n",
    "\n",
    "while not game_over:\n",
    "    if number == winning_number:\n",
    "        print(f\"you win, and you guessed this number in {guess} time\")\n",
    "        game_over = True\n",
    "    else:\n",
    "        if number < winning_number:\n",
    "            print(\"too low\")\n",
    "            guess+=1\n",
    "            number = int(input(\"Guess again: \"))\n",
    "        else:\n",
    "            print(\"too high\")\n",
    "            guess+=1\n",
    "            number = int(input(\"Guess again: \"))"
   ]
  },
  {
   "cell_type": "code",
   "execution_count": 11,
   "metadata": {},
   "outputs": [
    {
     "data": {
      "text/plain": [
       "98"
      ]
     },
     "execution_count": 11,
     "metadata": {},
     "output_type": "execute_result"
    }
   ],
   "source": []
  },
  {
   "cell_type": "code",
   "execution_count": 12,
   "metadata": {},
   "outputs": [
    {
     "data": {
      "text/plain": [
       "98"
      ]
     },
     "execution_count": 12,
     "metadata": {},
     "output_type": "execute_result"
    }
   ],
   "source": []
  },
  {
   "cell_type": "code",
   "execution_count": null,
   "metadata": {},
   "outputs": [],
   "source": []
  }
 ],
 "metadata": {
  "kernelspec": {
   "display_name": "Python 3",
   "language": "python",
   "name": "python3"
  },
  "language_info": {
   "codemirror_mode": {
    "name": "ipython",
    "version": 3
   },
   "file_extension": ".py",
   "mimetype": "text/x-python",
   "name": "python",
   "nbconvert_exporter": "python",
   "pygments_lexer": "ipython3",
   "version": "3.7.3"
  }
 },
 "nbformat": 4,
 "nbformat_minor": 2
}
