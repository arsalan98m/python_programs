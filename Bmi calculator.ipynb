{
 "cells": [
  {
   "cell_type": "code",
   "execution_count": 2,
   "metadata": {},
   "outputs": [
    {
     "name": "stdout",
     "output_type": "stream",
     "text": [
      "Enter your name:m.arsalan\n",
      "Enter your height in meters: 3\n",
      "Enter your weight in kg: 60\n",
      "bmi: \n",
      "6.666666666666667\n",
      "m.arsalan\n",
      "is not overweight\n"
     ]
    }
   ],
   "source": [
    "name = input(\"Enter your name:\")\n",
    "height_meters = int(input(\"Enter your height in meters: \"))\n",
    "weight_kg = int(input(\"Enter your weight in kg: \"))\n",
    "\n",
    "bmi = weight_kg / (height_meters ** 2)\n",
    "\n",
    "print(\"bmi: \")\n",
    "print(bmi)\n",
    "\n",
    "if bmi < 25:\n",
    "    print(name)\n",
    "    print(\"is not overweight\")\n",
    "else:\n",
    "    print(name)\n",
    "    print(\"is overweight\")"
   ]
  },
  {
   "cell_type": "code",
   "execution_count": null,
   "metadata": {},
   "outputs": [],
   "source": []
  }
 ],
 "metadata": {
  "kernelspec": {
   "display_name": "Python 3",
   "language": "python",
   "name": "python3"
  },
  "language_info": {
   "codemirror_mode": {
    "name": "ipython",
    "version": 3
   },
   "file_extension": ".py",
   "mimetype": "text/x-python",
   "name": "python",
   "nbconvert_exporter": "python",
   "pygments_lexer": "ipython3",
   "version": "3.7.3"
  }
 },
 "nbformat": 4,
 "nbformat_minor": 2
}
