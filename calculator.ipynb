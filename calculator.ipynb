{
 "cells": [
  {
   "cell_type": "markdown",
   "metadata": {},
   "source": [
    "# 000 Calculator "
   ]
  },
  {
   "cell_type": "code",
   "execution_count": 13,
   "metadata": {},
   "outputs": [
    {
     "name": "stdout",
     "output_type": "stream",
     "text": [
      "Enter your first number:1\n",
      "Enter your second number:1\n",
      "2\n"
     ]
    }
   ],
   "source": [
    "number_1 = int(input(\"Enter your first number:\"))\n",
    "number_2 = int(input(\"Enter your second number:\"))\n",
    "print(number_1 + number_2)"
   ]
  },
  {
   "cell_type": "code",
   "execution_count": 17,
   "metadata": {
    "scrolled": true
   },
   "outputs": [
    {
     "name": "stdout",
     "output_type": "stream",
     "text": [
      "Enter your first number:1\n",
      "Enter your second number:1\n",
      "1 + 1 = 2\n"
     ]
    }
   ],
   "source": [
    "number_1 = int(input(\"Enter your first number:\"))\n",
    "number_2 = int(input(\"Enter your second number:\"))\n",
    "\n",
    "print(\"{} + {} = \".format(number_1,number_2),end='')\n",
    "print(number_1+number_2)"
   ]
  },
  {
   "cell_type": "code",
   "execution_count": 18,
   "metadata": {},
   "outputs": [
    {
     "name": "stdout",
     "output_type": "stream",
     "text": [
      "Enter your first number:4\n",
      "Enter your second number:5\n",
      "4 + 5 = 9\n",
      "4 - 5 = -1\n",
      "4 * 5 = 20\n",
      "4 / 5 = 0.8\n"
     ]
    }
   ],
   "source": [
    "number_1 = int(input(\"Enter your first number:\"))\n",
    "number_2 = int(input(\"Enter your second number:\"))\n",
    "\n",
    "# Addition\n",
    "print(\"{} + {} = \".format(number_1,number_2),end='')\n",
    "print(number_1+number_2)\n",
    "\n",
    "#Subtraction\n",
    "print(\"{} - {} = \".format(number_1,number_2),end='')\n",
    "print(number_1-number_2)\n",
    "\n",
    "#Multiplication\n",
    "print(\"{} * {} = \".format(number_1,number_2),end='')\n",
    "print(number_1*number_2)\n",
    "\n",
    "#Division\n",
    "\n",
    "print(\"{} / {} = \".format(number_1,number_2),end='')\n",
    "print(number_1/number_2)"
   ]
  },
  {
   "cell_type": "code",
   "execution_count": 4,
   "metadata": {},
   "outputs": [
    {
     "name": "stdout",
     "output_type": "stream",
     "text": [
      "\n",
      "Please type in the math operation you would like to complete:\n",
      "+ for addition\n",
      "- for subtraction\n",
      "* for multiplication\n",
      "/ for division\n",
      "+\n",
      "Enter your first number:1\n",
      "Enter your second number:1\n",
      "1 + 1 = \n",
      "2\n"
     ]
    }
   ],
   "source": [
    "operation = input('''\n",
    "Please type in the math operation you would like to complete:\n",
    "+ for addition\n",
    "- for subtraction\n",
    "* for multiplication\n",
    "/ for division\n",
    "''')\n",
    "\n",
    "number_1 = int(input(\"Enter your first number:\"))\n",
    "number_2 = int(input(\"Enter your second number:\"))\n",
    "\n",
    "\n",
    "if operation == \"+\":\n",
    "    print(\"{} + {} = \".format(number_1,number_2))\n",
    "    print(number_1+number_2)\n",
    "elif operation == \"-\":\n",
    "    print(\"{} - {} = \".format(number_1,number_2))\n",
    "    print(number_1-number_2)\n",
    "elif operation == \"*\":\n",
    "    print(\"{} * {} = \".format(number_1,number_2))\n",
    "    print(number_1*number_2)\n",
    "elif operation == \"/\":\n",
    "    print(\"{} / {} = \".format(number_1,number_2))\n",
    "    print(number_1/number_2)\n",
    "else:\n",
    "    print(\"You have not typed valid operator, please run program again\")"
   ]
  },
  {
   "cell_type": "code",
   "execution_count": null,
   "metadata": {},
   "outputs": [],
   "source": []
  }
 ],
 "metadata": {
  "kernelspec": {
   "display_name": "Python 3",
   "language": "python",
   "name": "python3"
  },
  "language_info": {
   "codemirror_mode": {
    "name": "ipython",
    "version": 3
   },
   "file_extension": ".py",
   "mimetype": "text/x-python",
   "name": "python",
   "nbconvert_exporter": "python",
   "pygments_lexer": "ipython3",
   "version": "3.7.3"
  }
 },
 "nbformat": 4,
 "nbformat_minor": 2
}
