{
 "cells": [
  {
   "cell_type": "code",
   "execution_count": 11,
   "metadata": {},
   "outputs": [
    {
     "name": "stdout",
     "output_type": "stream",
     "text": [
      "\n",
      "\n",
      "Our Tasks:\n",
      "\n",
      "Options:\n",
      "1.Press 1 For Add Task.\n",
      "2.Press 2 For Delete Task.\n",
      "3.Press 3 For Delete All Task.\n",
      "4.Press 4 For Exit.\n",
      "Note: Please Press input in numbers e.g 1, 2, 3, 4\n",
      "Enter your Option: 1\n",
      "1.Add your task: lunch\n",
      "\n",
      "xxxxxxxxxxxxxxxxxxxxxxxxxxxxxxxxxxxxxxxxxxxx\n",
      "\n",
      "\n",
      "\n",
      "Our Tasks:\n",
      "-> Lunch\n",
      "\n",
      "Options:\n",
      "1.Press 1 For Add Task.\n",
      "2.Press 2 For Delete Task.\n",
      "3.Press 3 For Delete All Task.\n",
      "4.Press 4 For Exit.\n",
      "Note: Please Press input in numbers e.g 1, 2, 3, 4\n",
      "Enter your Option: 1\n",
      "2.Add your task: dinner\n",
      "\n",
      "xxxxxxxxxxxxxxxxxxxxxxxxxxxxxxxxxxxxxxxxxxxx\n",
      "\n",
      "\n",
      "\n",
      "Our Tasks:\n",
      "-> Lunch\n",
      "-> Dinner\n",
      "\n",
      "Options:\n",
      "1.Press 1 For Add Task.\n",
      "2.Press 2 For Delete Task.\n",
      "3.Press 3 For Delete All Task.\n",
      "4.Press 4 For Exit.\n",
      "Note: Please Press input in numbers e.g 1, 2, 3, 4\n",
      "Enter your Option: 4\n"
     ]
    }
   ],
   "source": [
    "tasks = []\n",
    "count_task = 1\n",
    "while True:\n",
    "    print(\"\\n\")\n",
    "    print(\"Our Tasks:\")\n",
    "    for task in tasks:\n",
    "        print('-> '+task.title())\n",
    "    \n",
    "    print(\"\\nOptions:\")\n",
    "    print(\"1.Press 1 For Add Task.\")\n",
    "    print(\"2.Press 2 For Delete Task.\")\n",
    "    print(\"3.Press 3 For Delete All Task.\")\n",
    "    print(\"4.Press 4 For Exit.\")\n",
    "    print(\"Note: Please Press input in numbers e.g 1, 2, 3, 4\")\n",
    "    \n",
    "    options_input = input(\"Enter your Option: \")\n",
    "    \n",
    "    if options_input == '1':\n",
    "        tasks.append(input(str(count_task)+\".Add your task: \"))\n",
    "        count_task+=1\n",
    "    elif options_input == '2':\n",
    "        tasks.remove(input(\"Enter task to delete: \"))\n",
    "    elif options_input == '3':\n",
    "        tasks.clear()\n",
    "    elif options_input == '4':\n",
    "        break\n",
    "    else:\n",
    "        print('Invalid input....')\n",
    "   \n",
    "    print(\"\\nxxxxxxxxxxxxxxxxxxxxxxxxxxxxxxxxxxxxxxxxxxxx\\n\")"
   ]
  },
  {
   "cell_type": "code",
   "execution_count": null,
   "metadata": {},
   "outputs": [],
   "source": []
  }
 ],
 "metadata": {
  "kernelspec": {
   "display_name": "Python 3",
   "language": "python",
   "name": "python3"
  },
  "language_info": {
   "codemirror_mode": {
    "name": "ipython",
    "version": 3
   },
   "file_extension": ".py",
   "mimetype": "text/x-python",
   "name": "python",
   "nbconvert_exporter": "python",
   "pygments_lexer": "ipython3",
   "version": "3.7.3"
  }
 },
 "nbformat": 4,
 "nbformat_minor": 2
}
