{
 "cells": [
  {
   "cell_type": "markdown",
   "metadata": {},
   "source": [
    "###### Once upon a time there was land - aland of milk and honey inhabited by happy and prosperous people. The people paid taxes, of course - their happiness and limits. The most important tax, called the Personal Income Tax(PIT for short) had to be paid once a year, and was evaluated using following rule:\n",
    "\n",
    "- If citizen income was not higher than 85,528 thalersm the tax was equal to 18% of the income minus 556 thalers and 2 cents (this was the so-called tax relief)\n",
    "\n",
    "- If the income was higher than this amount, the tax was equal to 14,839 thalers and 2 cents, plus 32% of the surplus 85,528 thalers."
   ]
  },
  {
   "cell_type": "code",
   "execution_count": 2,
   "metadata": {},
   "outputs": [
    {
     "name": "stdout",
     "output_type": "stream",
     "text": [
      "Enter the annual income: 10000\n",
      "The tax is: 1244.0 thalers\n"
     ]
    }
   ],
   "source": [
    "income = float(input(\"Enter the annual income: \"))\n",
    "\n",
    "if income < 85528:\n",
    "    tax = income * 0.18 - 556.02\n",
    "else:\n",
    "    tax= (income - 85528) * 0.32 + 14839\n",
    "    \n",
    "if tax < 0.0:\n",
    "    tax = 0.0\n",
    "tax = round(tax,0)\n",
    "\n",
    "print(\"The tax is:\",tax,\"thalers\")"
   ]
  },
  {
   "cell_type": "code",
   "execution_count": null,
   "metadata": {},
   "outputs": [],
   "source": []
  }
 ],
 "metadata": {
  "kernelspec": {
   "display_name": "Python 3",
   "language": "python",
   "name": "python3"
  },
  "language_info": {
   "codemirror_mode": {
    "name": "ipython",
    "version": 3
   },
   "file_extension": ".py",
   "mimetype": "text/x-python",
   "name": "python",
   "nbconvert_exporter": "python",
   "pygments_lexer": "ipython3",
   "version": "3.7.3"
  }
 },
 "nbformat": 4,
 "nbformat_minor": 2
}
