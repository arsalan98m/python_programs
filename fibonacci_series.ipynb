{
 "cells": [
  {
   "cell_type": "code",
   "execution_count": 26,
   "metadata": {},
   "outputs": [],
   "source": [
    "# fabonacci series\n",
    "# 0 1 1 2 3 5 8 13 21 34\n",
    "\n",
    "# 1 ---> 0\n",
    "# 2 ---> 0 1\n",
    "# 3 ---> 0 1 1\n",
    "\n",
    "def fabonacci_series(number):\n",
    "    a = 0 # first number\n",
    "    b = 1 # second number\n",
    "    if number == 1:\n",
    "        print(a)\n",
    "    elif number == 2:\n",
    "        print(a, b) # a b , 0,1\n",
    "    else:\n",
    "        print(a, b, end = \" \")\n",
    "        for i in range(number-2): # loop hum 2 sy is liyeh start kar rahy\n",
    "            c = a + b # c = 1      # kun ki 0, or 1 already print ho chuky hain\n",
    "            a = b # a = 1\n",
    "            b = c # b = 1\n",
    "            print(b, end = \" \")\n"
   ]
  },
  {
   "cell_type": "code",
   "execution_count": 27,
   "metadata": {},
   "outputs": [
    {
     "name": "stdout",
     "output_type": "stream",
     "text": [
      "How many numbers you want to print:10\n",
      "0 1 1 2 3 5 8 13 21 34 "
     ]
    }
   ],
   "source": [
    "n = int(input(\"How many numbers you want to print:\"))\n",
    "fabonacci_series(n)"
   ]
  },
  {
   "cell_type": "code",
   "execution_count": null,
   "metadata": {},
   "outputs": [],
   "source": []
  }
 ],
 "metadata": {
  "kernelspec": {
   "display_name": "Python 3",
   "language": "python",
   "name": "python3"
  },
  "language_info": {
   "codemirror_mode": {
    "name": "ipython",
    "version": 3
   },
   "file_extension": ".py",
   "mimetype": "text/x-python",
   "name": "python",
   "nbconvert_exporter": "python",
   "pygments_lexer": "ipython3",
   "version": "3.7.3"
  }
 },
 "nbformat": 4,
 "nbformat_minor": 2
}
